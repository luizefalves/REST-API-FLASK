{ 
 "cells": [
  {
   "cell_type": "markdown",
   "metadata": {},
   "source": [
    "# RESTful API utilizando Flask"
   ]
  },
  {
   "cell_type": "markdown",
   "metadata": {},
   "source": [
    "### O objetivo desse Notebook é apresentar uma API RESTful na maneira mais simples/enxuta possível. \n",
    "    \n",
    "    \n",
    "### Tratamento de erros, excessões, questões de acesso e segurança foram deixadas para futuras implementações."
   ]
  },
  {
   "cell_type": "markdown",
   "metadata": {},
   "source": [
    "# 0 - Importação das Bibliotecas/Framework"
   ]
  },
  {
   "cell_type": "code",
   "execution_count": 7,
   "metadata": {
    "scrolled": true
   },
   "outputs": [],
   "source": [
    "from flask import Flask, jsonify, request, Response\n",
    "from flask_restful import Resource, Api\n",
    "from flask_pymongo import PyMongo\n",
    "from bson import json_util\n",
    "from bson.objectid import ObjectId\n",
    "import json\n",
    "import pymongo"
   ]
  },
  {
   "cell_type": "markdown",
   "metadata": {},
   "source": [
    "# 1 - Declaração do conteúdo do DB em formato JSON\n",
    "\n",
    "Abaixo temos listas em formato JSON contendo informações a respeito de quatro bandas de heavy metal brasileiras, este pequeno conjunto de informações irá popular o nosso banco de dados utilizado para os testes."
   ]
  },
  {
   "cell_type": "code",
   "execution_count": 2,
   "metadata": {},
   "outputs": [],
   "source": [
    "muslist = [\n",
    "  {\n",
    "       \"banda\": \"Viper\",\n",
    "       \"cidade_origem\" : \"Sao Paulo\",\n",
    "       \"locais_shows\" : [\"0001\",\"0003\"]\n",
    "  },\n",
    "  { \n",
    "      \"banda\": \"Sepultura\",\n",
    "      \"cidade_origem\" : \"Belo Horizonte\",\n",
    "      \"locais_shows\" : \"0003\"\n",
    "  },\n",
    "  {\n",
    "      \"banda\": \"Vulcano\",\n",
    "      \"cidade_origem\" : \"Santos\",\n",
    "      \"locais_shows\" : \"0005\"\n",
    "  },\n",
    "  {\n",
    "      \"banda\": \"Steel Warrior\",\n",
    "      \"cidade_origem\" : \"Itajai\",\n",
    "      \"locais_shows\" : \"0007\"\n",
    "  }\n",
    "]"
   ]
  },
  {
   "cell_type": "markdown",
   "metadata": {},
   "source": [
    "# 2 - Conexão e Inserção de dados no MongoDB:\n",
    "\n",
    "Optei pela utilização de um banco de dados de documentos  (ié, armazena documentos na parte do valor do armazenamento de chave-valor), mais especificamente o \"NoSQL\" MongoDB devido a sua popularidade e simplicidade.\n",
    "\n",
    "Argumentações a respeito de vantagens técnicas do MongoDB (ex: sua alta disponibilidade) fogem do escopo desta simples demonstração."
   ]
  },
  {
   "cell_type": "code",
   "execution_count": 3,
   "metadata": {},
   "outputs": [],
   "source": [
    "import pymongo\n",
    "client = pymongo.MongoClient(\"mongodb://localhost:27017/\")\n",
    "\n",
    "db = client[\"RESTdb\"]\n",
    "\n",
    "#muscol = db[\"Musicos\"]\n",
    "#showcol = db[\"Shows\"]\n",
    "if 'Musicos' in db.list_collection_names():\n",
    "    pass\n",
    "else:\n",
    "    muscol = db[\"Musicos\"]\n",
    "    muscol.insert_many(muslist)\n",
    "    \n",
    "client.close()"
   ]
  },
  {
   "cell_type": "markdown",
   "metadata": {},
   "source": [
    "# 3-  Inicialização do Flask (?)"
   ]
  },
  {
   "cell_type": "code",
   "execution_count": 8,
   "metadata": {},
   "outputs": [],
   "source": [
    "app = Flask(__name__)\n",
    "app.config['MONGO_URI'] = 'mongodb://localhost/RESTdb'\n",
    "mongo = PyMongo(app)"
   ]
  },
  {
   "cell_type": "markdown",
   "metadata": {},
   "source": [
    "# 4 - Aplicação do decorator \"route\":\n",
    "\n",
    "\n",
    "Como se trata de uma API que faz uso da arquitetura REST (\"RESTful API\"), executamos uma função para cada método HTTP:\n",
    "\n",
    "[Mais informações sobre o decorator \"route\" aqui](https://flask.palletsprojects.com/en/2.0.x/api/#flask.Flask.route)"
   ]
  },
  {
   "cell_type": "code",
   "execution_count": 5,
   "metadata": {},
   "outputs": [],
   "source": [
    "@app.route('/Musicos', methods=['GET'])\n",
    "def get_users():\n",
    "    musicos = mongo.db.Musicos.find()\n",
    "    response = json_util.dumps(musicos)\n",
    "    return Response(response, mimetype=\"application/json\")\n",
    "\n",
    "\n",
    "@app.route('/Musicos', methods=['POST'])\n",
    "def create_user():    \n",
    "    banda = request.json['banda']\n",
    "    cidade_origem = request.json['cidade_origem']\n",
    "    locais_shows = request.json['locais_shows']\n",
    "\n",
    "    if username and email and password:\n",
    "        hashed_password = generate_password_hash(password)\n",
    "        id = mongo.db.Musicos.insert(\n",
    "            {'banda': banda, 'cidade_origem': cidade_origem, 'locais_shows': locais_shows})\n",
    "        response = jsonify({\n",
    "            '_id': str(id),\n",
    "            'bandas': bandas,\n",
    "            'cidade_origem': cidade_origem,\n",
    "            'locais_shows': locais_shows\n",
    "        })\n",
    "        response.status_code = 201\n",
    "        return response\n",
    "    else:\n",
    "        return 'Nao Encontrado (Not Found)'\n",
    "    \n",
    "    \n",
    "@app.route('/Musicos/<_id>', methods=['PUT'])\n",
    "def update_user(_id):\n",
    "    banda = request.json['banda']\n",
    "    cidade_origem = request.json['cidade_origem']\n",
    "    locais_shows = request.json['locais_shows']\n",
    "    if banda and cidade_origem and locais_shows and _id:\n",
    "        mongo.db.Musicos.update_one(\n",
    "            {'_id': ObjectId(_id['$oid']) if '$oid' in _id else ObjectId(_id)}, {'$set': { \\\n",
    "                'banda': banda, 'cidade_origem': cidade_origem, 'locais_shows': locais_shows}})\n",
    "        response = jsonify({'message': 'Musico' + _id + 'Updated Successfuly'})\n",
    "        response.status_code = 200\n",
    "        return response\n",
    "    else:\n",
    "      return 'Nao Encontrado (Not Found)' \n",
    "    \n",
    "      \n",
    "@app.route('/Musicos/<id>', methods=['DELETE'])\n",
    "def delete_user(id):\n",
    "    mongo.db.Musicos.delete_one({'_id': ObjectId(id)})\n",
    "    response = jsonify({'message': 'Musico' + id + ' Deleted Successfully'})\n",
    "    response.status_code = 200\n",
    "    return response\n",
    "\n"
   ]
  },
  {
   "cell_type": "markdown",
   "metadata": {},
   "source": [
    "# 5 - Voilà! \n",
    "\n",
    "Depois de rodar, basta acessar o localhost por meio de ferramentas como o [CURL](https://curl.se/) ou [Postman](https://www.postman.com/downloads/).\n",
    "\n"
   ]
  },
  {
   "cell_type": "code",
   "execution_count": 6,
   "metadata": {},
   "outputs": [
    {
     "name": "stdout",
     "output_type": "stream",
     "text": [
      " * Serving Flask app \"__main__\" (lazy loading)\n",
      " * Environment: production\n",
      "\u001b[31m   WARNING: This is a development server. Do not use it in a production deployment.\u001b[0m\n",
      "\u001b[2m   Use a production WSGI server instead.\u001b[0m\n",
      " * Debug mode: off\n"
     ]
    },
    {
     "name": "stderr",
     "output_type": "stream",
     "text": [
      " * Running on http://127.0.0.1:5000/ (Press CTRL+C to quit)\n"
     ]
    }
   ],
   "source": [
    "if __name__ == '__main__':\n",
    "    app.run() "
   ]
  }
 ],
 "metadata": {
  "kernelspec": {
   "display_name": "Python 3",
   "language": "python",
   "name": "python3"
  },
  "language_info": {
   "codemirror_mode": {
    "name": "ipython",
    "version": 3
   },
   "file_extension": ".py",
   "mimetype": "text/x-python",
   "name": "python",
   "nbconvert_exporter": "python",
   "pygments_lexer": "ipython3",
   "version": "3.7.7"
  }
 },
 "nbformat": 4,
 "nbformat_minor": 4
}
